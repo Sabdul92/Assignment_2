{
 "cells": [
  {
   "cell_type": "code",
   "execution_count": null,
   "id": "3273ab07",
   "metadata": {},
   "outputs": [],
   "source": [
    "Q1. What are the two values of the Boolean data type? How do you write them?\n",
    "\n",
    "\n",
    "Ans.:-Boolean values have two possible states: true and false. In binary, these are represented by 1 and 0. "
   ]
  },
  {
   "cell_type": "code",
   "execution_count": null,
   "id": "16b20012",
   "metadata": {},
   "outputs": [],
   "source": [
    "Q2. What are the three different types of Boolean operators?\n",
    "\n",
    "\n",
    "Ans.:- AND, OR, NOT "
   ]
  },
  {
   "cell_type": "code",
   "execution_count": null,
   "id": "6ea19f71",
   "metadata": {},
   "outputs": [],
   "source": [
    "Q3. Make a list of each Boolean operator truth tables (i.e. every possible combination of Boolean\n",
    "values for the operator and what it evaluate ).\n",
    "\n",
    "|-----|-----|---------|\n",
    "| True | True | True |\n",
    "| True | False | False |\n",
    "| False | True | False |\n",
    "| False | False | False |\n",
    "\n",
    "OR operator (or):\n",
    "| A | B | A or B |\n",
    "|-----|-----|---------|\n",
    "| True | True | True |\n",
    "| True | False | True |\n",
    "| False | True | True |\n",
    "| False | False | False |\n",
    "\n",
    "NOT operator (not):\n",
    "| A | not A |\n",
    "|-----|-------|\n",
    "| True | False |\n",
    "| False | True |\n",
    "\n",
    "\n",
    "XOR operator (xor):\n",
    "| A | B | A xor B |\n",
    "|-----|-----|---------|\n",
    "| True | True | False |\n",
    "| True | False | True |\n",
    "| False | True | True |\n",
    "| False | False | False |\n"
   ]
  },
  {
   "cell_type": "code",
   "execution_count": null,
   "id": "896b23bd",
   "metadata": {},
   "outputs": [],
   "source": [
    "\"\"\"\n",
    "Q4. What are the values of the following expressions?\n",
    "\n",
    "(5 > 4) and (3 == 5)\n",
    "not (5 >4)\n",
    "(5 > 4) or (3 == 5)\n",
    "not ((5 > 4) or (3 == 5))\n",
    "(True and True) and (True == False)\n",
    "(not False) or (not True)\n",
    "\n",
    "\"\"\"\n",
    "\n",
    "#Ans.4:-\n",
    "\n",
    "Expression: (5 > 4) and (3 == 5)\n",
    "\n",
    "(5 > 4) evaluates to True.\n",
    "(3 == 5) evaluates to False.\n",
    "True and False evaluates to False.\n",
    "Therefore, the value of the expression is False\n",
    "\n",
    "\n",
    "Expression: not (5 > 4)\n",
    "\n",
    "(5 > 4) evaluates to True.\n",
    "Applying the not operator to True results in False.\n",
    "Therefore, the value of the expression is False.\n",
    "\n",
    "\n",
    "Expression: (5 > 4) or (3 == 5)\n",
    "\n",
    "(5 > 4) evaluates to True.\n",
    "(3 == 5) evaluates to False.\n",
    "True or False evaluates to True.\n",
    "Therefore, the value of the expression is True.\n",
    "\n",
    "Expression: not ((5 > 4) or (3 == 5))\n",
    "\n",
    "(5 > 4) evaluates to True.\n",
    "(3 == 5) evaluates to False.\n",
    "True or False evaluates to True.\n",
    "Applying the not operator to True results in False.\n",
    "Therefore, the value of the expression is False.\n",
    "\n",
    "\n",
    "Expression: (True and True) and (True == False)\n",
    "\n",
    "True and True evaluates to True.\n",
    "True == False evaluates to False.\n",
    "True and False evaluates to False.\n",
    "Therefore, the value of the expression is False.\n",
    "\n"
   ]
  },
  {
   "cell_type": "code",
   "execution_count": null,
   "id": "92d28121",
   "metadata": {},
   "outputs": [],
   "source": [
    "5. What are the six comparison operators?\n",
    "\n",
    "Ans.less than, greater than, less than or equal to, greater than or equal to, equal to, and not equal to.( <,>, <=, >=, =, !=)"
   ]
  },
  {
   "cell_type": "code",
   "execution_count": null,
   "id": "d1c61f5e",
   "metadata": {},
   "outputs": [],
   "source": [
    "6. How do you tell the difference between the equal to and assignment operators?Describe a\n",
    "condition and when you would use one.\n",
    "\n",
    "\n",
    "Ans.:- both are not same, = is an Assignment Operator it is used to assign the value of variable or expression, \n",
    "while == is an Equal to Operator and it is a relation operator used for comparison\n",
    "Ex. A= 10, B = 10  \"=\" its an Assignment Operator\n",
    "A == B \"==\" its an Equal to Operator\n"
   ]
  },
  {
   "cell_type": "code",
   "execution_count": 28,
   "id": "1d8789ae",
   "metadata": {},
   "outputs": [],
   "source": [
    "#Q.no_7. Identify the three blocks in this code:\n",
    "# Ans.7:-\n",
    "\n",
    "Block 1:\n",
    "spam = 0\n",
    "if spam < 10:\n",
    "    print('eggs')\n",
    "This block consists of the code starting from the line if spam < 10: and ending with the line print('eggs'). \n",
    "It is a conditional block that executes the print('eggs') statement if the condition spam < 10 is true.\n",
    "\n",
    "Block 2:\n",
    "if spam > 5:\n",
    "    print('bacon')\n",
    "This block consists of the code starting from the line if spam > 5: and ending with the line print('bacon'). \n",
    "It is another conditional block that executes the print('bacon') statement if the condition spam > 5 is true.\n",
    "\n",
    "Block 3:\n",
    "This block corresponds to the code that is not indented, which means it is not part of any conditional block. \n",
    "In this case, it includes the line spam = 0. This assignment statement is executed unconditionally when the code is run.\n",
    "Therefore, the three identified blocks are:\n",
    "\n",
    "Block 1: if spam < 10: \n",
    "print('eggs')\n",
    "Block 2: if spam > 5: \n",
    "print('bacon')\n",
    "Block 3: spam = 0\n",
    "\n",
    "\n"
   ]
  },
  {
   "cell_type": "code",
   "execution_count": 29,
   "id": "aba98da6",
   "metadata": {},
   "outputs": [],
   "source": [
    "# Q8:Write code that prints Hello if 1 is stored in spam, prints Howdy if 2 is stored in spam, and prints\n",
    "# Greetings! if anything else is stored in spam.\n",
    "\n",
    "# Ans.:-\n",
    "\n",
    "\n",
    "spam = # Assign a value to spam variable\n",
    "\n",
    "if spam == 1:\n",
    "print(\"Hello\")\n",
    "elif spam == 2:\n",
    "print(\"Howdy\")\n",
    "else:\n",
    "print(\"Greetings!\")\n",
    "\n",
    "\n"
   ]
  },
  {
   "cell_type": "code",
   "execution_count": null,
   "id": "634fe06a",
   "metadata": {},
   "outputs": [],
   "source": [
    "Q9.If your programme is stuck in an endless loop, what keys you’ll press?\n",
    "\n",
    "Ans.:- CTRL + C"
   ]
  },
  {
   "cell_type": "code",
   "execution_count": null,
   "id": "5cb5fee9",
   "metadata": {},
   "outputs": [],
   "source": [
    "Q10. How can you tell the difference between break and continue?\n",
    "\n",
    "Ans.:- Break statement stops the entire process of the loop. \n",
    "Continue statement only stops the current iteration of the loop. \n",
    "Break also terminates the remaining iterations. \n",
    "Continue does not terminate the next iterations;"
   ]
  },
  {
   "cell_type": "code",
   "execution_count": 26,
   "id": "a2b6e3c3",
   "metadata": {},
   "outputs": [],
   "source": [
    "# Q11. In a for loop, what is the difference between range(10), range(0, 10), and range(0, 10, 1)?\n",
    "Ans.:-\n",
    "# range(10) define stop it means stop 10\n",
    "# range(0, 10),define (start, stop) it mean start from 0 and end with before 10\n",
    "# and range(0, 10, 1) (start, stop,step) and it meaning is start from 0 and end with before 10 and step is 1 \n",
    "# it means defferent in two no.is 1"
   ]
  },
  {
   "cell_type": "code",
   "execution_count": null,
   "id": "88625f22",
   "metadata": {},
   "outputs": [],
   "source": [
    "\"\"\" Q12. Write a short program that prints the numbers 1 to 10 using a for loop. Then write an equivalent\n",
    "program that prints the numbers 1 to 10 using a while loop.\n",
    "\n",
    "Ans 12 :- This is a for loop Ans.\n",
    "\"\"\"\n",
    "for i in range (1,10):\n",
    "    print(i)\n",
    "    \n",
    "#Ans 12 :- This is a While loop Ans.\n",
    "\n",
    "i = 1\n",
    "while i <= 10:\n",
    "    print(i)\n",
    "    i=i+1\n",
    " "
   ]
  },
  {
   "cell_type": "code",
   "execution_count": null,
   "id": "6fd9abe7",
   "metadata": {},
   "outputs": [],
   "source": [
    "#Q 13. If you had a function named bacon() inside a module named spam, how would you call it after importing spam?\n",
    "\n",
    "import spam\n",
    "\n",
    "spam.bacon()\n",
    "\n"
   ]
  }
 ],
 "metadata": {
  "kernelspec": {
   "display_name": "Python 3 (ipykernel)",
   "language": "python",
   "name": "python3"
  },
  "language_info": {
   "codemirror_mode": {
    "name": "ipython",
    "version": 3
   },
   "file_extension": ".py",
   "mimetype": "text/x-python",
   "name": "python",
   "nbconvert_exporter": "python",
   "pygments_lexer": "ipython3",
   "version": "3.10.9"
  }
 },
 "nbformat": 4,
 "nbformat_minor": 5
}
